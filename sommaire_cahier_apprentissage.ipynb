{
 "cells": [
  {
   "cell_type": "markdown",
   "metadata": {},
   "source": [
    " <center> <h1>Sommaire cahier d'apprentissage</center> </h1>"
   ]
  },
  {
   "cell_type": "markdown",
   "metadata": {},
   "source": [
    "---"
   ]
  },
  {
   "cell_type": "markdown",
   "metadata": {},
   "source": [
    "## 1- Cours"
   ]
  },
  {
   "cell_type": "markdown",
   "metadata": {},
   "source": [
    "- [Cours Python](http://localhost:8888/notebooks/Cours/Python/Cours%20Python.ipynb)\n",
    "\n",
    "\n",
    "- [Cours Machine Learning](http://localhost:8888/notebooks/Cours/Machine%20Learning/cours_machine_learning.ipynb)\n",
    "\n",
    "\n",
    "- [Cours Data Science](http://localhost:8888/notebooks/Cours/Data%20Science/Untitled.ipynb?kernel_name=python3)\n",
    "\n",
    "\n",
    "- [Cours Markdown](http://localhost:8888/notebooks/Cours/11-%20Markdown/Markdown.ipynb)\n",
    "\n",
    "\n",
    "- [Cours Algorithme](http://localhost:8888/files/Cours/algo.pdf)\n",
    "\n",
    "\n",
    "- [Mémo CSS](http://localhost:8888/files/Cours/memo-css3.pdf)\n",
    "\n",
    "\n",
    "- [Mémo HTML](http://localhost:8888/files/Cours/memo-html5.pdf)\n",
    "\n",
    "\n",
    "- [Création d'un environnement virutel avec Anaconda](http://localhost:8888/files/Cours/3-%20Anaconda/SupportFormation_Conda_Part_1.pdf)\n",
    "\n",
    "\n",
    "- [Tkinter](http://localhost:8888/notebooks/Cours/4-%20TKinter/tkinter.ipynb)\n",
    "\n",
    "\n",
    "- [Pandas](http://localhost:8888/files/Cours/6-%20Pandas/manipuler_des_donnees_avec_pandas.pdf)\n",
    "\n",
    "\n",
    "- [Initiation Merise](http://localhost:8888/files/Cours/7-%20Merise/Veilles/initiation-merise.pdf)\n",
    "\n",
    "\n",
    "- [Cours Merise](http://localhost:8888/files/Cours/7-%20Merise/Cours_merise.pdf)\n",
    "\n",
    "\n",
    "- [Requêtes SQL](http://localhost:8888/files/Cours/8-%20MySQL/mysql_requetes.pdf)\n",
    "\n",
    "\n",
    "- [SQL (lignes de commande)](http://localhost:8888/files/Cours/8-%20MySQL/requetes_sql.pdf)\n",
    "\n",
    "\n",
    "- [Mamp](http://localhost:8888/tree/Cours/1-%20Mamp)\n",
    "\n",
    "\n",
    "- [MySQL](http://localhost:8888/files/Cours/2-%20PHPMyAdmin/phpMyAdmin.pdf)"
   ]
  },
  {
   "cell_type": "markdown",
   "metadata": {},
   "source": [
    "----------------------"
   ]
  },
  {
   "cell_type": "markdown",
   "metadata": {},
   "source": [
    "## 2- Exercices"
   ]
  },
  {
   "cell_type": "markdown",
   "metadata": {},
   "source": [
    "- [Page d'accueil des Exercices](http://localhost:8888/tree/Exercices)\n",
    "\n",
    "\n",
    "### Algorithmes :\n",
    "\n",
    "- [Exercices d'algorithmique](https://www.kwyk.fr/algorithme/)\n",
    "\n",
    "\n",
    "### Python :\n",
    "\n",
    "\n",
    "- [Exercices Python](http://localhost:8888/notebooks/Cours/Python/Exercices_Python.ipynb)\n",
    "\n",
    "- [Sololearn](https://www.sololearn.com/learning/1169)\n",
    "\n",
    "\n",
    "### Développement Web :\n",
    "\n",
    "\n",
    "- [Exercices développement web](http://localhost:8888/tree/Exercices/dev_web)\n",
    "\n",
    "- [Exercices HTML](http://localhost:8888/files/Exercices/dev_web/kata_devweb.pdf)\n",
    "\n",
    "- [Exercices Bootstrap](http://localhost:8888/files/Exercices/dev_web/kata_bootstrap.pdf)\n",
    "\n",
    "\n",
    "### PHPmyAdmin/MySQL :\n",
    "\n",
    "- [Exercices MySQL](http://localhost:8888/files/Cours/2-%20PHPMyAdmin/phpMyAdmin_kata.pdf)\n",
    "\n",
    "\n",
    "### SQL :\n",
    " \n",
    "- [Kata SQL](http://localhost:8888/files/Cours/8-%20MySQL/Exercices/sql_katas.pdf)\n",
    "\n",
    "- [Kata SQL (lignes de commande)](http://localhost:8888/files/Cours/8-%20MySQL/Exercices/sql_cmd_kata.pdf)\n",
    "\n",
    "- [correction : Kata SQL (lignes de commande)](http://localhost:8888/edit/Cours/8-%20MySQL/kata_sql_correction.txt)"
   ]
  },
  {
   "cell_type": "markdown",
   "metadata": {},
   "source": [
    "---"
   ]
  },
  {
   "cell_type": "markdown",
   "metadata": {},
   "source": [
    "## 3- Projets"
   ]
  },
  {
   "cell_type": "markdown",
   "metadata": {},
   "source": [
    "- [Page rassemblant les projets](http://localhost:8888/tree/Projets)\n",
    "\n",
    "\n",
    "- [Projet 3 Pandas](http://localhost:8888/tree/Projets/Projet_3_pandas)\n",
    "\n",
    "\n",
    "- [Projet 5 Modèle IA](http://localhost:8888/tree/Projets/Projet_5_modele_ia)"
   ]
  },
  {
   "cell_type": "markdown",
   "metadata": {},
   "source": [
    "---"
   ]
  },
  {
   "cell_type": "markdown",
   "metadata": {},
   "source": [
    "## 4- Sources"
   ]
  },
  {
   "cell_type": "markdown",
   "metadata": {},
   "source": [
    "- [Page rassemblant les sources](Sources/Sources.ipynb)"
   ]
  },
  {
   "cell_type": "markdown",
   "metadata": {},
   "source": [
    "---"
   ]
  },
  {
   "cell_type": "markdown",
   "metadata": {},
   "source": [
    "## 5- Veilles"
   ]
  },
  {
   "cell_type": "markdown",
   "metadata": {},
   "source": [
    "Les différentes veilles sont accessibles [ici](Veilles)\n",
    "\n",
    "\n",
    "- Veilles sur Merise : [ici](Cours/7-%20Merise/Veilles)\n",
    "\n",
    "\n",
    "- Veille sur les bibliothèques : [ici](Veilles/5-%20biblioth%C3%A8ques)\n",
    "\n",
    "\n",
    "- Veille IA : [ici](Veilles/1-%20IA)\n",
    "\n",
    "\n",
    "- Veille Langages : [ici](Veilles/2-%20Langages)\n",
    "\n",
    "\n",
    "- Veille SGBD : [ici](Veilles/3-%20SGBD)\n",
    "\n",
    "\n",
    "- Veille Maths : [ici](Veilles/4-%20Maths)\n",
    "\n",
    "\n",
    "- Veille interface graphique : [ici](Veilles/6-%20Interface%20graphique)\n",
    "\n",
    "\n",
    "- Veille Développement Web : [ici](Veilles/6-%20Interface%20graphique)\n",
    "\n",
    "\n",
    "- Veille Machine Learning : [ici](Veilles/9-%20Machine%20Learning)"
   ]
  },
  {
   "cell_type": "markdown",
   "metadata": {},
   "source": [
    "---"
   ]
  },
  {
   "cell_type": "markdown",
   "metadata": {},
   "source": [
    "## 6- Documentation"
   ]
  },
  {
   "cell_type": "markdown",
   "metadata": {},
   "source": [
    "- [Python](https://docs.python.org/fr/3.10/)\n",
    "\n",
    "\n",
    "- [phpMyAdmin](https://docs.phpmyadmin.net/fr/latest/index.html)"
   ]
  },
  {
   "cell_type": "markdown",
   "metadata": {},
   "source": [
    "---"
   ]
  },
  {
   "cell_type": "markdown",
   "metadata": {},
   "source": [
    "## 7- Tutoriels"
   ]
  },
  {
   "cell_type": "markdown",
   "metadata": {},
   "source": [
    "-  [Tutoriel Python & Numpy : les types de données](https://www.cours-gratuit.com/tutoriel-python/tutoriel-python-matriser-les-types-de-donnes-sur-numpy)\n",
    "\n",
    "\n",
    "- [Créer un environnement virtuel](https://packaging.python.org/en/latest/guides/installing-using-pip-and-virtual-environments/#creating-a-virtual-environment)\n",
    "\n",
    "\n",
    "- [Liste de toutes les commandes Linux](https://www.malekal.com/liste-des-commandes-linux/)\n",
    "\n",
    "\n",
    "- [Cellule Markdown dans le bloc-notes Jupyter](https://fr.acervolima.com/cellule-markdown-dans-le-bloc-notes-jupyter/)\n",
    "\n",
    "\n",
    "- [Flask avec Python](https://code.visualstudio.com/docs/python/tutorial-flask)"
   ]
  },
  {
   "cell_type": "markdown",
   "metadata": {},
   "source": [
    "---"
   ]
  },
  {
   "cell_type": "markdown",
   "metadata": {},
   "source": [
    "## 8- Ressources"
   ]
  },
  {
   "cell_type": "markdown",
   "metadata": {},
   "source": [
    "- [datasets pour le machine learning](https://github.com/awesomedata/awesome-public-datasets)"
   ]
  }
 ],
 "metadata": {
  "kernelspec": {
   "display_name": "Python 3",
   "language": "python",
   "name": "python3"
  },
  "language_info": {
   "codemirror_mode": {
    "name": "ipython",
    "version": 3
   },
   "file_extension": ".py",
   "mimetype": "text/x-python",
   "name": "python",
   "nbconvert_exporter": "python",
   "pygments_lexer": "ipython3",
   "version": "3.8.3"
  }
 },
 "nbformat": 4,
 "nbformat_minor": 4
}
